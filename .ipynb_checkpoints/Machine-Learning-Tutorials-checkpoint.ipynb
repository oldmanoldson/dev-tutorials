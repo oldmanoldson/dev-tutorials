{
 "cells": [
  {
   "cell_type": "markdown",
   "metadata": {},
   "source": [
    "# Machine Learning Tutorials:  Classification to Regression, NLP to Neural Networks"
   ]
  },
  {
   "cell_type": "code",
   "execution_count": 18,
   "metadata": {},
   "outputs": [],
   "source": [
    "# Import libraries\n",
    "\n",
    "import sklearn\n",
    "import tensorflow as tf\n",
    "import spacy\n",
    "import nltk\n",
    "import pandas as pd\n",
    "import numpy as np\n",
    "import matplotlib.pyplot as plt"
   ]
  },
  {
   "cell_type": "code",
   "execution_count": 37,
   "metadata": {},
   "outputs": [
    {
     "data": {
      "image/png": "[encoded data removed]",
      "text/plain": [
       "<Figure size 432x288 with 1 Axes>"
      ]
     },
     "metadata": {
      "needs_background": "light"
     },
     "output_type": "display_data"
    }
   ],
   "source": [
    "# K-Means Clustering\n",
    "def randomized_kmeans(cl, r, sn):\n",
    "    \n",
    "    from sklearn.cluster import KMeans\n",
    "    \n",
    "    x = np.random.normal(0, 1, sn)\n",
    "    y = np.random.normal(0, 1, sn)\n",
    "    ka = np.column_stack((x,y))\n",
    "    \n",
    "    # K-Means Clustering on above random data\n",
    "    kmeans = KMeans(n_clusters = cl, random_state = r).fit(ka)\n",
    "    kmlabels = kmeans.labels_\n",
    "    kmfit = kmeans.predict(ka)\n",
    "    kmcenter = kmeans.cluster_centers_\n",
    "\n",
    "    # plot it\n",
    "    plt.scatter(ka[:, 0], ka[:, 1], c = kmfit, s = 50, cmap = 'viridis')\n",
    "    plt.scatter(kmcenter[:, 0], kmcenter[:, 1], c ='black', s = 75, alpha = 0.5)\n",
    "    \n",
    "randomized_kmeans(3, 0, 100)"
   ]
  },
  {
   "cell_type": "code",
   "execution_count": 82,
   "metadata": {
    "scrolled": true
   },
   "outputs": [
    {
     "name": "stdout",
     "output_type": "stream",
     "text": [
      "Training Features Shape:  (387, 532)\n",
      "Training Labels Shape:  (387,)\n",
      "Testing Features Shape:  (129, 532)\n",
      "Testing Labels Shape:  (129,)\n",
      "Average baseline error:  675.98\n",
      "Mean Absolute Error:  2.18\n",
      "Accuracy:  99.29 %\n"
     ]
    }
   ],
   "source": [
    "# Random Forest\n",
    "# import data from currency indices\n",
    "\n",
    "df = pd.read_csv('C:/Users/600795/Downloads/currency-index.csv', sep = ',', low_memory = False)\n",
    "df['Date2'] = pd.to_datetime(df['Date'])\n",
    "df['year'] = df['Date2'].dt.year\n",
    "df['month'] = df['Date2'].dt.month\n",
    "df['day'] = df['Date2'].dt.day\n",
    "df = df.drop(['Date2'], axis=1)\n",
    "\n",
    "df['USD_ave'] = df['USD']*1.10\n",
    "df['GBP_ave'] = df['GBP']*1.10\n",
    "df['ITA_ave'] = df['ITA']*1.10\n",
    "df['YEN_ave'] = df['YEN']*1.10\n",
    "df['GER_ave'] = df['GER']*1.10\n",
    "df['FRA_ave'] = df['FRA']*1.10\n",
    "df['CAN_ave'] = df['CAN']*1.10\n",
    "\n",
    "# Convert Date to dummies (one-hot encoding) \n",
    "df = pd.get_dummies(df)\n",
    "\n",
    "# Descriptive statistics\n",
    "ds = df.describe()\n",
    "\n",
    "def currency_rf(currency):\n",
    "    \n",
    "    cur_ave = currency + '_ave'\n",
    "    \n",
    "    ### Random Forest Function\n",
    "    ## Features and Targets and Convert Data to Arrays\n",
    "    # Labels are the values we want to predict\n",
    "    labels = np.array(df[currency])\n",
    "\n",
    "    # Remove the labels from the data frame\n",
    "    # axis 1 refers to the columns\n",
    "    features = df.drop(currency, axis = 1)\n",
    "    \n",
    "    # Saving dataframe names for later \n",
    "    features_list = list(df.columns)\n",
    "\n",
    "    # Convert to numpy array\n",
    "    features = np.array(features)\n",
    "\n",
    "    ## Training and Testing Sets\n",
    "    # import sklearn\n",
    "    from sklearn.model_selection import train_test_split\n",
    "\n",
    "    # split the data into training and testing sets\n",
    "    train_features, test_features, train_labels, test_labels = train_test_split(features, labels, test_size = 0.25, random_state = 42)\n",
    "\n",
    "    # Confirm training shape\n",
    "    print('Training Features Shape: ', train_features.shape)\n",
    "    print('Training Labels Shape: ', train_labels.shape)\n",
    "    print('Testing Features Shape: ', test_features.shape)\n",
    "    print('Testing Labels Shape: ', test_labels.shape)\n",
    "\n",
    "    ## Establish Baseline\n",
    "    # The baseline predictions are the historical averages\n",
    "    baseline_preds = test_features[:, features_list.index(cur_ave)]\n",
    "\n",
    "    # Baseline errors, and display average baseline error\n",
    "    baseline_errors = abs(baseline_preds - test_labels)\n",
    "\n",
    "    print('Average baseline error: ', round(np.mean(baseline_errors), 2))\n",
    "\n",
    "    ## Train Model\n",
    "    # Import the model we are using\n",
    "    from sklearn.ensemble import RandomForestRegressor\n",
    "\n",
    "    # Instantiate model with 1000 decision trees\n",
    "    rf = RandomForestRegressor(n_estimators = 1000, random_state = 42)\n",
    "\n",
    "    # Train the model on training data\n",
    "    rf.fit(train_features, train_labels);\n",
    "\n",
    "    ## Make Predictions on the Test Set\n",
    "    # Use the forest's perdict method on the test data\n",
    "    predictions = rf.predict(test_features)\n",
    "\n",
    "    # Calculate the absolute errors\n",
    "    errors = abs(predictions - test_labels)\n",
    "\n",
    "    # Print out the mean absolute error (mae)\n",
    "    print('Mean Absolute Error: ', round(np.mean(errors), 2))\n",
    "\n",
    "    ## Determine Performance Metrics\n",
    "    # Calculate mean absolute percentage error (MAPE)\n",
    "    mape = 100 * (errors / test_labels)\n",
    "\n",
    "    # Calculate and display accuracy\n",
    "    accuracy = 100 - np.mean(mape)\n",
    "    print('Accuracy: ', round(accuracy, 2), '%')\n",
    "\n",
    "currency_rf('YEN')"
   ]
  },
  {
   "cell_type": "code",
   "execution_count": null,
   "metadata": {},
   "outputs": [],
   "source": [
    "# Gradient Boosting\n"
   ]
  }
 ],
 "metadata": {
  "kernelspec": {
   "display_name": "Python 3",
   "language": "python",
   "name": "python3"
  },
  "language_info": {
   "codemirror_mode": {
    "name": "ipython",
    "version": 3
   },
   "file_extension": ".py",
   "mimetype": "text/x-python",
   "name": "python",
   "nbconvert_exporter": "python",
   "pygments_lexer": "ipython3",
   "version": "3.7.2"
  }
 },
 "nbformat": 4,
 "nbformat_minor": 2
}
